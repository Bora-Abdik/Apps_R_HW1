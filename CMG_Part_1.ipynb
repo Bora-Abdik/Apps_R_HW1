{
 "cells": [
  {
   "cell_type": "markdown",
   "id": "bb1ce475",
   "metadata": {},
   "source": [
    "# Liam Part 1: Chipotle Analysis#\n",
    "\n",
    "### This is Liam's Analysis of the Chipotle stock performance for Applications of R for Finance\n"
   ]
  },
  {
   "cell_type": "code",
   "execution_count": null,
   "id": "2f1fd4d4",
   "metadata": {
    "vscode": {
     "languageId": "r"
    }
   },
   "outputs": [],
   "source": [
    "# Imports:\n",
    "\n",
    "#| warning: false\n",
    "#install.packages(c(\"dplyr\", \"ggplot2\", \"PerformanceAnalytics\"))\n",
    "#install.packages(c(\"glue\"))\n",
    "install.packages(c(\"lubridate\"))\n",
    "\n",
    "library(dplyr)\n",
    "library(ggplot2)\n",
    "library(PerformanceAnalytics)\n",
    "library(lubridate)\n",
    "library(glue)\n",
    "\n",
    "print(\"I am Agustina\")"
   ]
  },
  {
   "cell_type": "code",
   "execution_count": null,
   "id": "dbc3a2e6",
   "metadata": {
    "vscode": {
     "languageId": "r"
    }
   },
   "outputs": [],
   "source": [
    "# Load data into dataframe\n",
    "print(\"Hey Guys\")\n",
    "all_data <- read.csv(\"compustat_food_bev.csv\")\n",
    "\n",
    "# Filter rows where tic = \"CMG\"\n",
    "chipotle_data <- filter(all_data, tic == \"CMG\")\n",
    "\n",
    "# Checking for correct sample\n",
    "#head(chipotle_data)\n",
    "\n",
    "# Add Prev Day Returns\n",
    "chipotle_data$prev_close = lag(chipotle_data$prccd)\n",
    "#head(chipotle_data)\n",
    "\n",
    "# Remove NA values\n",
    "#chipotle_data <- na.omit(chipotle_data)\n",
    "#head(chipotle_data)\n",
    "\n",
    "chipotle_data$daily_return <- (chipotle_data$prccd - chipotle_data$prev_close) / chipotle_data$prev_close\n",
    "\n",
    "chipotle_data$volume_change <- chipotle_data$cshtrd - lag(chipotle_data$cshtrd)\n",
    "\n",
    "chipotle_data$momentum10 <- chipotle_data$prccd - lag(chipotle_data$prccd, n = 10)\n",
    "\n",
    "chipotle_data$MFV <- ( ((chipotle_data$prccd - chipotle_data$prcld) - (chipotle_data$prchd - chipotle_data$prccd)) / \n",
    "    (chipotle_data$prchd - chipotle_data$prcld) ) * chipotle_data$cshtrd\n",
    "\n",
    "chipotle_data$datadate <- as.Date(chipotle_data$datadate, format = \"%d/%m/%Y\")\n",
    "\n",
    "chipotle_data$month <- month(chipotle_data$datadate)\n",
    "chipotle_data$year <- year(chipotle_data$datadate)\n",
    "\n",
    "\n",
    "head(chipotle_data, n = 10)\n",
    "\n",
    "CMG_Jun_2023_TradeVolume <- chipotle_data %>%\n",
    "    filter(month == 6, year == 2023) %>%\n",
    "    pull(cshtrd) %>%\n",
    "    sum(na.rm = TRUE)\n",
    "\n",
    "CMG_MeanReturn <- chipotle_data %>%\n",
    "    pull(daily_return) %>%\n",
    "    mean(na.rm = TRUE)\n",
    "\n",
    "highest_prchd <- chipotle_data %>%\n",
    "  filter(prchd == max(prchd, na.rm = TRUE))\n",
    "\n",
    "highest_daily_return <- chipotle_data %>%\n",
    "  filter(daily_return == max(daily_return, na.rm = TRUE))\n",
    "\n",
    "print(glue(\"Total trading volume: {CMG_Jun_2023_TradeVolume}\"))\n",
    "print(glue(\"Mean Daily Return was: {round(CMG_MeanReturn * 100, 2)}%\"))\n",
    "print(glue(\"The highest positive price was {highest_prchd$prchd} on {highest_prchd$datadate}\"))\n",
    "print(glue(\"The highest daily return was {round(highest_daily_return$daily_return * 100, 2)}% on {highest_daily_return$datadate}\"))\n",
    "\n",
    "# Data for July 2023:\n",
    "#head(filter(chipotle_data, month == 7, year == 2023), n = 30)\n",
    "\n",
    "    \n",
    "\n",
    "\n",
    "# Add daily return"
   ]
  }
 ],
 "metadata": {
  "kernelspec": {
   "display_name": "R",
   "language": "R",
   "name": "ir"
  },
  "language_info": {
   "codemirror_mode": "r",
   "file_extension": ".r",
   "mimetype": "text/x-r-source",
   "name": "R",
   "pygments_lexer": "r",
   "version": "4.3.3"
  }
 },
 "nbformat": 4,
 "nbformat_minor": 5
}
